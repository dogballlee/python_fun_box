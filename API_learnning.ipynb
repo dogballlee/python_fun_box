{
 "cells": [
  {
   "cell_type": "code",
   "execution_count": 1,
   "metadata": {},
   "outputs": [],
   "source": [
    "import time\n",
    "import datetime\n",
    "import requests\n",
    "import pandas as pd"
   ]
  },
  {
   "cell_type": "code",
   "execution_count": null,
   "metadata": {},
   "outputs": [],
   "source": [
    "web = 'http://XXXXXXXXXXXXXXXX'\n",
    "payload = {'loginName':'XXXXXXXXXXXXXXXX',\n",
    "          'password':'XXXXXXXXXXXXXXX',\n",
    "          'sec':'',\n",
    "           'startTime':'2020-10-13 17:00:00',\n",
    "           'endTime':'2020-10-13 20:00:00',\n",
    "           'webcastId':'421589fc27584d6ea5917ca6e71688d2'}\n",
    "r = requests.post(web,params=payload)\n",
    "re_json = r.json().values()\n",
    "L = list(re_json)[1]\n",
    "\n",
    "\n",
    "def timestamp_to_datetime(timestamp):\n",
    " \n",
    "# 将 13 位整数的毫秒时间戳转化成本地普通时间 (datetime 格式)\n",
    "\n",
    "    local_dt_time = datetime.fromtimestamp(timestamp / 1000.0)\n",
    "    return local_dt_time"
   ]
  },
  {
   "cell_type": "code",
   "execution_count": null,
   "metadata": {},
   "outputs": [],
   "source": [
    "result = pd.DataFrame(L)\n",
    "result"
   ]
  },
  {
   "cell_type": "code",
   "execution_count": null,
   "metadata": {},
   "outputs": [],
   "source": []
  }
 ],
 "metadata": {
  "kernelspec": {
   "display_name": "Python 3",
   "language": "python",
   "name": "python3"
  },
  "language_info": {
   "codemirror_mode": {
    "name": "ipython",
    "version": 3
   },
   "file_extension": ".py",
   "mimetype": "text/x-python",
   "name": "python",
   "nbconvert_exporter": "python",
   "pygments_lexer": "ipython3",
   "version": "3.7.7"
  }
 },
 "nbformat": 4,
 "nbformat_minor": 4
}
